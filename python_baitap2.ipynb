{
  "nbformat": 4,
  "nbformat_minor": 0,
  "metadata": {
    "colab": {
      "provenance": [],
      "name": "python-baitap2.ipynb",
      "include_colab_link": true
    },
    "kernelspec": {
      "name": "python3",
      "display_name": "Python 3"
    },
    "language_info": {
      "name": "python"
    }
  },
  "cells": [
    {
      "cell_type": "markdown",
      "metadata": {
        "id": "view-in-github",
        "colab_type": "text"
      },
      "source": [
        "<a href=\"https://colab.research.google.com/github/letruongman148/Kh-a-h-c-Python/blob/main/python_baitap2.ipynb\" target=\"_parent\"><img src=\"https://colab.research.google.com/assets/colab-badge.svg\" alt=\"Open In Colab\"/></a>"
      ]
    },
    {
      "cell_type": "markdown",
      "metadata": {
        "id": "kTVNdssHZkvP"
      },
      "source": [
        "# I. Gợi ý"
      ]
    },
    {
      "cell_type": "markdown",
      "metadata": {
        "id": "Y0Kg3VZJZ-1U"
      },
      "source": [
        "## 1.1. Nested JSON"
      ]
    },
    {
      "cell_type": "markdown",
      "metadata": {
        "id": "MKqR47wVTwp6"
      },
      "source": [
        "> JSON là viết tắt của **J**ava**S**cript **O**bject **N**otation. JSON là định dạng tối ưu dùng để trao đổi dữ liệu một cách nhanh chóng với máy tính, thường được dùng như là chuẩn trao đổi dữ liệu thông qua API.\n",
        "\n",
        "> Nested JSON ở đây chỉ các cấu trúc JSON sử dụng lồng ghép nhiều kiểu dữ liệu, thường gặp nhất là dict và list.\n",
        "\n",
        "Dưới đây là minh họa cách trích xuất dữ liệu từ 1 đoạn Nested JSON:"
      ]
    },
    {
      "cell_type": "code",
      "metadata": {
        "id": "zx5gs2hFTsii"
      },
      "source": [
        "object = {\"data\":[\"x\", \"y\", {\"stats\":\"1123\"}]}"
      ],
      "execution_count": null,
      "outputs": []
    },
    {
      "cell_type": "markdown",
      "metadata": {
        "id": "n1tWAYs3UUAr"
      },
      "source": [
        "Để lấy giá trị value của dict trên theo key là `data`, sử dụng cấu trúc `object[\"key_name\"]` như sau, giá trị trả về là 1 list:"
      ]
    },
    {
      "cell_type": "code",
      "metadata": {
        "colab": {
          "base_uri": "https://localhost:8080/"
        },
        "id": "Rj10e6FLUQbm",
        "outputId": "e3f7d16b-57a2-4fdc-a88a-045513a58937"
      },
      "source": [
        "object[\"data\"]"
      ],
      "execution_count": null,
      "outputs": [
        {
          "output_type": "execute_result",
          "data": {
            "text/plain": [
              "['x', 'y', {'stats': '1123'}]"
            ]
          },
          "metadata": {
            "tags": []
          },
          "execution_count": 16
        }
      ]
    },
    {
      "cell_type": "markdown",
      "metadata": {
        "id": "dGzoLyxBUhwX"
      },
      "source": [
        "Để lấy giá trị trong 1 list, chúng ta truy xuất bằng vị trí index theo dạng `n-1` của phần tử trong list đó. Ví dụ, muốn lấy giá trị `y` ở trên:"
      ]
    },
    {
      "cell_type": "code",
      "metadata": {
        "colab": {
          "base_uri": "https://localhost:8080/",
          "height": 35
        },
        "id": "eAT_k9H_Ucyl",
        "outputId": "112f2533-5fe6-45ee-be47-cc13a4529c51"
      },
      "source": [
        "object[\"data\"][1]"
      ],
      "execution_count": null,
      "outputs": [
        {
          "output_type": "execute_result",
          "data": {
            "application/vnd.google.colaboratory.intrinsic+json": {
              "type": "string"
            },
            "text/plain": [
              "'y'"
            ]
          },
          "metadata": {
            "tags": []
          },
          "execution_count": 13
        }
      ]
    },
    {
      "cell_type": "markdown",
      "metadata": {
        "id": "uXOXjyjaVSIh"
      },
      "source": [
        "Để truy xuất giá trị ở các cấu trúc thấp hơn trong object ở trên, chúng ta lần lượt thêm giá trị vị trí để truy xuất. Vì vậy để lấy giá trị 1 của key là `stats` trong dict con như trên. ta sử dụng cấu trúc:"
      ]
    },
    {
      "cell_type": "code",
      "metadata": {
        "colab": {
          "base_uri": "https://localhost:8080/",
          "height": 35
        },
        "id": "--hCzMAtVgQw",
        "outputId": "39600551-8d2a-43b9-d449-9aa1f4a2d120"
      },
      "source": [
        "object[\"data\"][2][\"stats\"]"
      ],
      "execution_count": null,
      "outputs": [
        {
          "output_type": "execute_result",
          "data": {
            "application/vnd.google.colaboratory.intrinsic+json": {
              "type": "string"
            },
            "text/plain": [
              "'1123'"
            ]
          },
          "metadata": {
            "tags": []
          },
          "execution_count": 14
        }
      ]
    },
    {
      "cell_type": "markdown",
      "metadata": {
        "id": "-Z71meXqZekQ"
      },
      "source": [
        "# II. Bài tập"
      ]
    },
    {
      "cell_type": "markdown",
      "metadata": {
        "id": "JlUXtAmJZxCC"
      },
      "source": [
        "## 2.1. Bài tập 1"
      ]
    },
    {
      "cell_type": "markdown",
      "source": [
        "Cho đoạn mã JSON dưới đây, lấy từ thông tin các sự kiện liên quan đến mã cổ phiếu `TPB` do TCBS cung cấp thông qua [API trên website TCInvest](https://apipubaws.tcbs.com.vn/tcanalysis/v1/ticker/TPB/events-news?page=0&size=3). Giả sử anh/chị đang viết một chương trình Python theo dõi các sự kiện liên quan đến mã cổ phiếu này. Hãy tạo 3 dòng code riêng biệt và viết câu lệnh giúp trích xuất thông tin `eventName`, `exerDate` (ngày hiệu lực) cho sự kiện có mã id `2563135`"
      ],
      "metadata": {
        "id": "Au443Y2PUVBb"
      }
    },
    {
      "cell_type": "code",
      "source": [],
      "metadata": {
        "id": "Oe5ODYbvS-gG"
      },
      "execution_count": null,
      "outputs": []
    },
    {
      "cell_type": "code",
      "source": [
        "list_events = {\n",
        "              \"listEventNews\": [\n",
        "                  {\n",
        "                      \"id\": 2563370,\n",
        "                      \"ticker\": \"TPB\",\n",
        "                      \"price\": 18100,\n",
        "                      \"priceChange\": -350,\n",
        "                      \"priceChangeRatio\": -0.019,\n",
        "                      \"priceChangeRatio1W\": -0.016,\n",
        "                      \"priceChangeRatio1M\": 0.037,\n",
        "                      \"eventName\": \"TPB - Niêm yết bổ sung 619,879,514 cổ phiếu\",\n",
        "                      \"eventCode\": \"AIS\",\n",
        "                      \"notifyDate\": \"2023-06-29 00:00:00\",\n",
        "                      \"exerDate\": \"2023-07-07 00:00:00\",\n",
        "                      \"regFinalDate\": \"1753-01-01 00:00:00\",\n",
        "                      \"exRigthDate\": \"1753-01-01 00:00:00\",\n",
        "                      \"eventDesc\": \"<p>Ngân hàng Thương mại Cổ phần Tiên Phong (TPB) niêm yết bổ sung cổ phiếu:<br />\\r\\nSố lượng cổ phiếu niêm yết bổ sung: 619,879,514 cổ phiếu<br />\\r\\nTổng số lượng cổ phiếu niêm yết: 2,201,635,009 cổ phiếu<br />\\r\\nNgày thay đổi niêm yết có hiệu lực: 03/07/2023<br />\\r\\nNgày chính thức giao dịch: 07/07/2023.</p>\\r\\n\",\n",
        "                      \"eventNote\": None\n",
        "                  },\n",
        "                  {\n",
        "                      \"id\": 2563135,\n",
        "                      \"ticker\": \"TPB\",\n",
        "                      \"price\": 18535,\n",
        "                      \"priceChange\": -215,\n",
        "                      \"priceChangeRatio\": -0.011,\n",
        "                      \"priceChangeRatio1W\": 0.071,\n",
        "                      \"priceChangeRatio1M\": 0.110,\n",
        "                      \"eventName\": \"TPB - Phát hành cổ phiếu thưởng tỷ lệ 39,19%\",\n",
        "                      \"eventCode\": \"ISS\",\n",
        "                      \"notifyDate\": \"2023-06-06 00:00:00\",\n",
        "                      \"exerDate\": \"2023-06-09 00:00:00\",\n",
        "                      \"regFinalDate\": \"2023-06-12 00:00:00\",\n",
        "                      \"exRigthDate\": \"2023-06-09 00:00:00\",\n",
        "                      \"eventDesc\": \"<p>Ngân hàng Thương mại Cổ phần Tiên Phong (TPB) phát hành cổ phiếu thưởng:<br />\\r\\nNgày giao dịch không hưởng quyền: 09/06/2023<br />\\r\\nNgày đăng ký cuối cùng: 12/06/2023<br />\\r\\nTỷ lệ thực hiện: 39,19%<br />\\r\\nSố cổ phiếu dự kiến phát hành: 619.889.978</p>\\r\\n\",\n",
        "                      \"eventNote\": None\n",
        "                  },\n",
        "                  {\n",
        "                      \"id\": 2561933,\n",
        "                      \"ticker\": \"TPB\",\n",
        "                      \"price\": 15668,\n",
        "                      \"priceChange\": -64,\n",
        "                      \"priceChangeRatio\": -0.004,\n",
        "                      \"priceChangeRatio1W\": 0.030,\n",
        "                      \"priceChangeRatio1M\": 0.030,\n",
        "                      \"eventName\": \"TPB - Tổ chức ĐHĐCĐ thường niên 2023\",\n",
        "                      \"eventCode\": \"AGME\",\n",
        "                      \"notifyDate\": \"2023-03-14 00:00:00\",\n",
        "                      \"exerDate\": \"2023-04-26 00:00:00\",\n",
        "                      \"regFinalDate\": \"2023-03-29 00:00:00\",\n",
        "                      \"exRigthDate\": \"2023-03-28 00:00:00\",\n",
        "                      \"eventDesc\": \"<p>Ngân hàng Thương mại Cổ phần Tiên Phong (TPB) tổ chức ĐHĐCĐ thường niên năm 2023:<br />\\r\\nNgày giao dịch không hưởng quyền: 28/03/2023<br />\\r\\nNgày đăng ký cuối cùng: 29/03/2023<br />\\r\\nThời gian thực hiện: 26/04/2023 08:30<br />\\r\\nĐịa điểm thực hiện: Phòng họp Grand Ballroom – Tầng 2, Khách sạn Melia, 44 Lý Thường Kiệt, Phường Trần Hưng Đạo, Quận Hoàn Kiếm, Thành phố Hà Nội;.</p>\\r\\n\",\n",
        "                      \"eventNote\": None\n",
        "                  }\n",
        "              ]\n",
        "          }"
      ],
      "metadata": {
        "id": "aDsmYvbETfEC"
      },
      "execution_count": 7,
      "outputs": []
    },
    {
      "cell_type": "code",
      "source": [
        "#Bài giải\n",
        "value = list_events[\"listEventNews\"]\n",
        "print(value[1][\"eventName\"])\n",
        "print(value[1][\"exerDate\"])"
      ],
      "metadata": {
        "colab": {
          "base_uri": "https://localhost:8080/"
        },
        "id": "fvtTR-98SaXg",
        "outputId": "b926804d-2c8c-419f-c23b-4fb8c2440595"
      },
      "execution_count": 74,
      "outputs": [
        {
          "output_type": "stream",
          "name": "stdout",
          "text": [
            "TPB - Phát hành cổ phiếu thưởng tỷ lệ 39,19%\n",
            "2023-06-09 00:00:00\n"
          ]
        }
      ]
    },
    {
      "cell_type": "markdown",
      "metadata": {
        "id": "sWpQQvAqfe0z"
      },
      "source": [
        "## 2.2. Bài tập 2 - Câu điều kiện"
      ]
    },
    {
      "cell_type": "markdown",
      "metadata": {
        "id": "QX7o6LR3fnYX"
      },
      "source": [
        "Cho 4 phân đoạn tuổi của người dùng thường gặp trong quảng cáo như dưới đây:\n",
        "\n",
        "* 18-24\n",
        "* 25-34\n",
        "* 35-44\n",
        "* Từ 45 trở lên\n",
        "\n",
        "**Yêu cầu:**\n",
        "1. Tạo biến `my_age` và gán giá trị là số tuổi của bạn sử dụng phép tính trong python. `my_age = năm hiện tại - năm sinh`\n",
        "\n",
        "2. Sử dụng cấu trúc câu điều kiện đã học để trả về kết quả là tuổi của bạn thuộc phân đoạn tuổi nào như đã cho ở trên. Cấu trúc có dạng\n",
        "\n",
        "```\n",
        "if ....:\n",
        "  .....\n",
        "elif...:\n",
        "  .....\n",
        "elif...:\n",
        "  .....\n",
        "else...:\n",
        "  .....\n",
        "```"
      ]
    },
    {
      "cell_type": "code",
      "source": [
        "#bài giải\n",
        "my_age= 35\n",
        "if my_age <18:\n",
        "  print('tuổi bạn nhỏ hơn 18')\n",
        "elif 18<=my_age<=24:\n",
        "  print('tuổi bạn trong đoạn 18-24')\n",
        "elif 25<=my_age<=34:\n",
        "  print('tuổi bạn trong đoạn 25-34')\n",
        "elif 35<=my_age<=44:\n",
        "  print('tuổi bạn trong đoạn 35-44')\n",
        "else:\n",
        "  print('tuổi bạn từ 45 trở lên')\n",
        ""
      ],
      "metadata": {
        "colab": {
          "base_uri": "https://localhost:8080/"
        },
        "id": "umS9pTtPXKoB",
        "outputId": "1c610d39-c91a-4595-8db9-4bff5ba099f1"
      },
      "execution_count": 75,
      "outputs": [
        {
          "output_type": "stream",
          "name": "stdout",
          "text": [
            "tuổi bạn trong đoạn 35-44\n"
          ]
        }
      ]
    },
    {
      "cell_type": "code",
      "source": [],
      "metadata": {
        "id": "9hMKCV0WXKkc"
      },
      "execution_count": null,
      "outputs": []
    },
    {
      "cell_type": "markdown",
      "metadata": {
        "id": "FIwJEsTkhdoQ"
      },
      "source": [
        "## 2.3 Bài tập 3 - Hàm"
      ]
    },
    {
      "cell_type": "markdown",
      "metadata": {
        "id": "nBzqyJ-ChkLp"
      },
      "source": [
        "Từ bài tập 3 ở trên, chuyển câu điều kiện đã viết thành hàm Python để khi input giá trị tuổi của bạn vào thì hàm trả về kết quả là phân đoạn tuổi tương ứng. Tham khảo cấu trúc sau:"
      ]
    },
    {
      "cell_type": "code",
      "source": [
        "def age_range(my_age):\n",
        "  if ....:\n",
        "    output = \"18-24\"\n",
        "  elif...:\n",
        "    .....\n",
        "  elif...:\n",
        "    .....\n",
        "  else...:\n",
        "    .....\n",
        "  return output"
      ],
      "metadata": {
        "id": "SRPRkHE4YwFN"
      },
      "execution_count": null,
      "outputs": []
    },
    {
      "cell_type": "code",
      "source": [
        "# bài giải\n",
        "def age_range(my_age):\n",
        "  if my_age <18:\n",
        "    output = \"Nhỏ hơn 18\"\n",
        "  elif 18<=my_age <=24:\n",
        "    output = \"18-24\"\n",
        "  elif 25<=my_age <=34:\n",
        "    output = \"25-34\"\n",
        "  elif 35<=my_age <=44:\n",
        "    output = \"35-44\"\n",
        "  else:\n",
        "    output = \"Từ 45 trở lên\"\n",
        "  return output"
      ],
      "metadata": {
        "id": "i4R_5NkuZt__"
      },
      "execution_count": 66,
      "outputs": []
    },
    {
      "cell_type": "markdown",
      "metadata": {
        "id": "RPchHyD_jDCb"
      },
      "source": [
        "## 2.5. Bài tập 4 - Vòng lặp"
      ]
    },
    {
      "cell_type": "markdown",
      "metadata": {
        "id": "gXCjr67mjurC"
      },
      "source": [
        "Cho dict dưới đây bao gồm tuổi của các bạn trong lớp. Hãy sử dụng hàm được viết ra trong bài tập 4 kết hợp với vòng lặp For hoặc While để viết 1 code block trả về kết quả là phân đoạn tuổi của từng bạn trong lớp."
      ]
    },
    {
      "cell_type": "code",
      "metadata": {
        "id": "KjX_1CwUjGvn"
      },
      "source": [
        "member_age = {\"Duy\":31, \"Thúy\":30, \"Jack\":\"28\", \"Trình\":\"26\", \"Quỳnh\":25}"
      ],
      "execution_count": 62,
      "outputs": []
    },
    {
      "cell_type": "markdown",
      "source": [
        "### Gợi ý"
      ],
      "metadata": {
        "id": "vaQvMDe9mzQo"
      }
    },
    {
      "cell_type": "markdown",
      "metadata": {
        "id": "gkXpJZKUm5aK"
      },
      "source": [
        "Cấu trúc vòng lặp có dạng:"
      ]
    },
    {
      "cell_type": "code",
      "metadata": {
        "id": "VKh02ep9m8JB",
        "colab": {
          "base_uri": "https://localhost:8080/",
          "height": 106
        },
        "outputId": "aeba9c16-dd00-467c-f639-7a087aa59ccc"
      },
      "source": [
        "for i in range(len(....)):\n",
        "  age = ...\n",
        "  output = age_range(age)\n",
        "  print(output)"
      ],
      "execution_count": 45,
      "outputs": [
        {
          "output_type": "error",
          "ename": "SyntaxError",
          "evalue": "invalid syntax (<ipython-input-45-526b9f98892a>, line 1)",
          "traceback": [
            "\u001b[0;36m  File \u001b[0;32m\"<ipython-input-45-526b9f98892a>\"\u001b[0;36m, line \u001b[0;32m1\u001b[0m\n\u001b[0;31m    for i in range(len(....)):\u001b[0m\n\u001b[0m                           ^\u001b[0m\n\u001b[0;31mSyntaxError\u001b[0m\u001b[0;31m:\u001b[0m invalid syntax\n"
          ]
        }
      ]
    },
    {
      "cell_type": "code",
      "source": [
        "#bài giải\n",
        "x=list(member_age.keys())\n",
        "for i in range(len(x)):\n",
        "  t= x[i]\n",
        "  print(t)\n",
        "  output=age_range(int(member_age[t]))\n",
        "  print(output)\n"
      ],
      "metadata": {
        "colab": {
          "base_uri": "https://localhost:8080/"
        },
        "id": "_gexq8BAZ99g",
        "outputId": "92635cb8-c32b-4199-89d2-c4de5b75a617"
      },
      "execution_count": 72,
      "outputs": [
        {
          "output_type": "stream",
          "name": "stdout",
          "text": [
            "Duy\n",
            "25-34\n",
            "Thúy\n",
            "25-34\n",
            "Jack\n",
            "25-34\n",
            "Trình\n",
            "25-34\n",
            "Quỳnh\n",
            "25-34\n"
          ]
        }
      ]
    },
    {
      "cell_type": "markdown",
      "metadata": {
        "id": "G2xSX7V3la59"
      },
      "source": [
        "**Lưu ý:** Để tách tên của các member tự động trong dict, sử dụng cấu trúc sau:"
      ]
    },
    {
      "cell_type": "code",
      "metadata": {
        "id": "Tvn90dOgkmt8",
        "colab": {
          "base_uri": "https://localhost:8080/"
        },
        "outputId": "6f32af82-6936-45e0-f629-960cf9131823"
      },
      "source": [
        "member_name = [name for name in member_age] # name ở đây là tên biến do ta tự định nghĩa\n",
        "member_name # xuất output các giá trị của member_name để các bạn dễ nhìn"
      ],
      "execution_count": 73,
      "outputs": [
        {
          "output_type": "execute_result",
          "data": {
            "text/plain": [
              "['Duy', 'Thúy', 'Jack', 'Trình', 'Quỳnh']"
            ]
          },
          "metadata": {},
          "execution_count": 73
        }
      ]
    },
    {
      "cell_type": "markdown",
      "metadata": {
        "id": "hT_3VqVimCjO"
      },
      "source": [
        "Trích xuất giá trị tên của Quỳnh trong list trên"
      ]
    },
    {
      "cell_type": "code",
      "metadata": {
        "colab": {
          "base_uri": "https://localhost:8080/",
          "height": 35
        },
        "id": "K5b7qSVFl4ye",
        "outputId": "956ec29a-e109-42d7-97eb-7f4e5a3509bd"
      },
      "source": [
        "member_name[4]"
      ],
      "execution_count": null,
      "outputs": [
        {
          "output_type": "execute_result",
          "data": {
            "application/vnd.google.colaboratory.intrinsic+json": {
              "type": "string"
            },
            "text/plain": [
              "'Quỳnh'"
            ]
          },
          "metadata": {
            "tags": []
          },
          "execution_count": 70
        }
      ]
    },
    {
      "cell_type": "markdown",
      "metadata": {
        "id": "lVu8Ny8smz9T"
      },
      "source": [
        "Để lấy số tuổi tương ứng của Quỳnh"
      ]
    },
    {
      "cell_type": "code",
      "metadata": {
        "colab": {
          "base_uri": "https://localhost:8080/"
        },
        "id": "_Zvtt56PmuUK",
        "outputId": "9ddf5e07-577b-433b-cb7d-ec9bd97c149e"
      },
      "source": [
        "member_age.get(member_name[4])"
      ],
      "execution_count": null,
      "outputs": [
        {
          "output_type": "execute_result",
          "data": {
            "text/plain": [
              "25"
            ]
          },
          "metadata": {
            "tags": []
          },
          "execution_count": 74
        }
      ]
    }
  ]
}